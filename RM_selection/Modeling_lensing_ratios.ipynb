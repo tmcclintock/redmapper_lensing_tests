{
 "cells": [
  {
   "cell_type": "markdown",
   "metadata": {},
   "source": [
    "# Modeling lensing ratios\n",
    "\n",
    "Cluster finders such as redMaPPer impart a selection function on the halos in their catalogs. We would like to think that this selection function is a nice power law between the observable and the mass -- and it might be. Unfortunately, selection functions oftentimes have unintended consequences on observables measured on the clusters in the catalogs, such as stacked gravitational weak lensing profiles. The cluster selection can create or exacerbate existing systematics that affect the lensing profiles.\n",
    "\n",
    "In this notebook we will take some measured lensing profiles from simulations on cluster stacks created by redMaPPer, and similar stacks but with all selection effects eliminated (a so-called \"same-mass\" selection).\n",
    "\n",
    "## Stacked lensing\n",
    "\n",
    "Stacked cluster weak lensing is a measurements of the ensemble average (over the catalog) of the weak lensing signal measured around a selection of galaxy clusters. The lensing is written in terms of the differential surface mass density profile $\\Delta\\Sigma$ which is defined as\n",
    "$$\n",
    "\\Delta\\Sigma(R) = \\Sigma(<R) - \\Sigma(R)\\,,\n",
    "$$\n",
    "where $\\Sigma(R)$ is the (ensemble average) surface mass density at radius $R$, and $\\Sigma(<R)$ is the average surface mass density over the disk interior to $R$.\n",
    "\n",
    "Our goal will be to find a model to modify the theory curves for $\\Sigma(R)$ and recover $\\Sigma(R)$ that has selection effects. This will be used later as a template to modify our lensing models and obtain accurate cluster masses.\n",
    "\n",
    "\n",
    "## redMaPPer selected vs same-mass selected\n",
    "\n",
    "Heidi Wu (OSU) has measured stacked surface mass density profiles $\\Sigma(R)$ for stacks of redMaPPer selected clusters in the Buzzard simulations in bins of redshift and richness. Since this is in simulations, we know the masses of the halos in which the clusters reside. Heidi made another stack of halos randomly selected until the selection matched the masses of the original stack. Selected in this way, the second stack has no systematics on the surface mass density profile imparted by the redMaPPer selection. Therefore, the ratio of the two profiles encodes the effect of the selection function, and is the quantity we want to model.\n",
    "\n",
    "In other words, we will be building a model for the function\n",
    "$$\n",
    "\\mathcal{F}(R|\\lambda,z) = \\frac{\\Sigma(R|\\mathrm{redMaPPer})}{\\Sigma(R|\\mathrm{same-mass})}\\,.\n",
    "$$"
   ]
  },
  {
   "cell_type": "code",
   "execution_count": 1,
   "metadata": {},
   "outputs": [],
   "source": [
    "import numpy as np\n",
    "import pandas as pd\n",
    "import scipy.stats as ss\n",
    "import matplotlib.pyplot as plt\n",
    "%matplotlib inline"
   ]
  },
  {
   "cell_type": "code",
   "execution_count": 2,
   "metadata": {},
   "outputs": [],
   "source": [
    "plt.rc(\"font\", size=24, family=\"serif\")\n",
    "plt.rc(\"text\", usetex=True)\n",
    "plt.rc(\"errorbar\", capsize=2)"
   ]
  },
  {
   "cell_type": "code",
   "execution_count": 3,
   "metadata": {},
   "outputs": [
    {
     "data": {
      "image/png": "[encoded data removed]",
      "text/plain": [
       "<Figure size 432x288 with 1 Axes>"
      ]
     },
     "metadata": {
      "needs_background": "light"
     },
     "output_type": "display_data"
    }
   ],
   "source": [
    "#For now, load in some data for us to see\n",
    "zs = [\"0.2_0.35\", \"0.35_0.5\", \"0.5_0.65\"]\n",
    "lams = [\"20_30\", \"30_45\", \"45_60\", \"60_10000\"]\n",
    "z_titles = [\"0.2,0.35\", \"0.35,0.5\" ,\"0.5, 0.65\"]\n",
    "lam_titles = [\"20,30\", \"30,45\", \"45,60\", \"60,\\infty\"]\n",
    "rm_path = \"Sigma_for_TomM/Sigma_z_{0}_lam_{1}.dat\"\n",
    "sm_path = \"Sigma_for_TomM/Sigma_same_mass_redshift_distribution_z_{0}_lam_{1}.dat\"\n",
    "names =[\"R\", \"Sigma\", \"err\"]\n",
    "\n",
    "df = pd.read_csv(rm_path.format(zs[0], lams[0]), sep=' ', header=None, skiprows=1)\n",
    "df.drop(3, axis=1, inplace=True)\n",
    "df.columns = names\n",
    "\n",
    "plt.errorbar(df.R, df.Sigma, df.err)\n",
    "plt.loglog();"
   ]
  },
  {
   "cell_type": "code",
   "execution_count": 4,
   "metadata": {},
   "outputs": [],
   "source": [
    "#Now lets plot a lensing ratio\n",
    "def get_data_frame(zi, lj):\n",
    "    \"\"\"Returns the lensing ratio for the zi-th redshift bin\n",
    "    and lj-th lambda bin.\n",
    "    \"\"\"\n",
    "    df1 = pd.read_csv(rm_path.format(zs[zi], lams[lj]), sep=' ', header=None, skiprows=1)\n",
    "    df1.drop(3, axis=1, inplace=True)\n",
    "    df1.columns = names\n",
    "    df2 = pd.read_csv(sm_path.format(zs[zi], lams[lj]), sep=' ', header=None, skiprows=1)\n",
    "    df2.drop(3, axis=1, inplace=True)\n",
    "    df2.columns = names\n",
    "    df1 = df1.merge(df2, how=\"left\", on=\"R\", suffixes=(\"\", \"SM\"))\n",
    "    \n",
    "    df1[\"lnR\"] = np.log10(df1.R)\n",
    "    df1[\"F\"] = df1.Sigma / df2.Sigma\n",
    "    df1[\"Ferr\"] = np.sqrt(df1.err**2 / df2.Sigma**2 + df2.err**2 * df1.Sigma**2 / df2.Sigma**4)\n",
    "    return df1"
   ]
  },
  {
   "cell_type": "code",
   "execution_count": 5,
   "metadata": {},
   "outputs": [
    {
     "data": {
      "text/html": [
       "<div>\n",
       "<style scoped>\n",
       "    .dataframe tbody tr th:only-of-type {\n",
       "        vertical-align: middle;\n",
       "    }\n",
       "\n",
       "    .dataframe tbody tr th {\n",
       "        vertical-align: top;\n",
       "    }\n",
       "\n",
       "    .dataframe thead th {\n",
       "        text-align: right;\n",
       "    }\n",
       "</style>\n",
       "<table border=\"1\" class=\"dataframe\">\n",
       "  <thead>\n",
       "    <tr style=\"text-align: right;\">\n",
       "      <th></th>\n",
       "      <th>R</th>\n",
       "      <th>Sigma</th>\n",
       "      <th>err</th>\n",
       "      <th>SigmaSM</th>\n",
       "      <th>errSM</th>\n",
       "      <th>lnR</th>\n",
       "      <th>F</th>\n",
       "      <th>Ferr</th>\n",
       "    </tr>\n",
       "  </thead>\n",
       "  <tbody>\n",
       "    <tr>\n",
       "      <th>0</th>\n",
       "      <td>0.040563</td>\n",
       "      <td>679.745</td>\n",
       "      <td>17.56660</td>\n",
       "      <td>622.276</td>\n",
       "      <td>10.14480</td>\n",
       "      <td>-1.391867</td>\n",
       "      <td>1.092353</td>\n",
       "      <td>0.033377</td>\n",
       "    </tr>\n",
       "    <tr>\n",
       "      <th>1</th>\n",
       "      <td>0.063973</td>\n",
       "      <td>531.199</td>\n",
       "      <td>13.29760</td>\n",
       "      <td>484.610</td>\n",
       "      <td>7.79132</td>\n",
       "      <td>-1.194005</td>\n",
       "      <td>1.096137</td>\n",
       "      <td>0.032612</td>\n",
       "    </tr>\n",
       "    <tr>\n",
       "      <th>2</th>\n",
       "      <td>0.100892</td>\n",
       "      <td>380.631</td>\n",
       "      <td>9.29573</td>\n",
       "      <td>345.530</td>\n",
       "      <td>5.57827</td>\n",
       "      <td>-0.996143</td>\n",
       "      <td>1.101586</td>\n",
       "      <td>0.032250</td>\n",
       "    </tr>\n",
       "    <tr>\n",
       "      <th>3</th>\n",
       "      <td>0.159117</td>\n",
       "      <td>260.482</td>\n",
       "      <td>6.23750</td>\n",
       "      <td>233.743</td>\n",
       "      <td>3.83592</td>\n",
       "      <td>-0.798283</td>\n",
       "      <td>1.114395</td>\n",
       "      <td>0.032351</td>\n",
       "    </tr>\n",
       "    <tr>\n",
       "      <th>4</th>\n",
       "      <td>0.250945</td>\n",
       "      <td>171.579</td>\n",
       "      <td>4.01676</td>\n",
       "      <td>152.026</td>\n",
       "      <td>2.54508</td>\n",
       "      <td>-0.600421</td>\n",
       "      <td>1.128616</td>\n",
       "      <td>0.032482</td>\n",
       "    </tr>\n",
       "  </tbody>\n",
       "</table>\n",
       "</div>"
      ],
      "text/plain": [
       "          R    Sigma       err  SigmaSM     errSM       lnR         F  \\\n",
       "0  0.040563  679.745  17.56660  622.276  10.14480 -1.391867  1.092353   \n",
       "1  0.063973  531.199  13.29760  484.610   7.79132 -1.194005  1.096137   \n",
       "2  0.100892  380.631   9.29573  345.530   5.57827 -0.996143  1.101586   \n",
       "3  0.159117  260.482   6.23750  233.743   3.83592 -0.798283  1.114395   \n",
       "4  0.250945  171.579   4.01676  152.026   2.54508 -0.600421  1.128616   \n",
       "\n",
       "       Ferr  \n",
       "0  0.033377  \n",
       "1  0.032612  \n",
       "2  0.032250  \n",
       "3  0.032351  \n",
       "4  0.032482  "
      ]
     },
     "execution_count": 5,
     "metadata": {},
     "output_type": "execute_result"
    },
    {
     "data": {
      "image/png": "[encoded data removed]",
      "text/plain": [
       "<Figure size 432x288 with 1 Axes>"
      ]
     },
     "metadata": {
      "needs_background": "light"
     },
     "output_type": "display_data"
    }
   ],
   "source": [
    "df = get_data_frame(0, 0)\n",
    "plt.errorbar(df.R, df.F, df.Ferr)\n",
    "#plt.xlim(.1, 20)\n",
    "plt.ylim(0.9, 1.4)\n",
    "plt.xscale(\"log\")\n",
    "df.head()"
   ]
  },
  {
   "cell_type": "markdown",
   "metadata": {},
   "source": [
    "## Modeling the ratio\n",
    "\n",
    "We are going to try to model this ratio. For now, we will attempt to model this as some kind of polynomial in $\\ln R$\n",
    "$$\n",
    "F(R) = \\sum_{i=0}^N a_i (\\ln R)^i\\,.\n",
    "$$\n",
    "After that we will explore forcing this to asymptote to 1 at large $R$, and to a constant at small $R$.\n",
    "\n",
    "We will solve for these slopes using least squares (a.k.a. $\\chi^2$ minimization). Since we have errorbars (a diagonal covariance matrix), we know that \n",
    "$$\n",
    "\\chi^2 = (F - XA)^TC^{-1}(F - XA)\\,,\n",
    "$$\n",
    "where $C$ is our covariance matrix, $F$ is an $N$-length vector containing the ratios, $X$ is an $M\\times N$ matrix containing powers of the radii (including a column of ones), and $A$ is a vector of our linear parameters. Taking the derivative of this equation with respect to $A$ and setting it to zero gives us \n",
    "$$\n",
    "A = (X^TC^{-1}X)^{-1}X^TC^{-1}F\\,.\n",
    "$$"
   ]
  },
  {
   "cell_type": "code",
   "execution_count": 6,
   "metadata": {},
   "outputs": [
    {
     "name": "stdout",
     "output_type": "stream",
     "text": [
      "[ 1.15220937 -0.0252081  -0.10833649 -0.0022951   0.02952414]\n"
     ]
    }
   ],
   "source": [
    "M = 5\n",
    "x = df.lnR\n",
    "X = np.ones((len(x), M))\n",
    "for i in range(1, M):\n",
    "    X[:, i] = x**i\n",
    "C = np.diag(df.Ferr**2)\n",
    "Ci = np.linalg.inv(C) #I shouldn't do this...\n",
    "XCX = X.T @ Ci @ X\n",
    "A = np.linalg.inv(XCX) @ X.T @ Ci @ df.F\n",
    "print(A)"
   ]
  },
  {
   "cell_type": "code",
   "execution_count": 7,
   "metadata": {},
   "outputs": [
    {
     "data": {
      "text/plain": [
       "[<matplotlib.lines.Line2D at 0x1a1987a630>]"
      ]
     },
     "execution_count": 7,
     "metadata": {},
     "output_type": "execute_result"
    },
    {
     "data": {
      "image/png": "[encoded data removed]",
      "text/plain": [
       "<Figure size 432x288 with 1 Axes>"
      ]
     },
     "metadata": {
      "needs_background": "light"
     },
     "output_type": "display_data"
    }
   ],
   "source": [
    "Fmodel = X @ A\n",
    "plt.errorbar(df.lnR, df.F, df.Ferr, c='k')\n",
    "plt.plot(df.lnR, Fmodel)"
   ]
  },
  {
   "cell_type": "code",
   "execution_count": 8,
   "metadata": {},
   "outputs": [],
   "source": [
    "#We should probably objectify this whole thing\n",
    "class PolyModel(object):\n",
    "    def __init__(self, zi, lj, M):\n",
    "        df = get_data_frame(zi, lj)\n",
    "        x = df.lnR\n",
    "        X = np.ones((len(x), M))\n",
    "        for i in range(1, M):\n",
    "            X[:, i] = x**i\n",
    "        C = np.diag(df.Ferr**2)\n",
    "        Ci = np.linalg.inv(C) #I shouldn't do this...\n",
    "        XCX = X.T @ Ci @ X\n",
    "        self.A = np.linalg.inv(XCX) @ X.T @ Ci @ df.F\n",
    "        self.Fmodel = X @ self.A\n",
    "        self.df = df\n",
    "        self.M = M\n",
    "        self.chi2 = (df.F - self.Fmodel).T @ Ci @ (df.F - self.Fmodel)\n",
    "        self.BIC = np.log(len(x))*M - 2*ss.multivariate_normal.logpdf(df.F, mean=Fmodel, cov=C)\n",
    "        \n",
    "    def get_N_free_params(self):\n",
    "        return self.M\n",
    "        \n",
    "    def get_DoF(self):\n",
    "        return len(self.df.lnR) - self.M\n",
    "    \n",
    "    def get_data(self):\n",
    "        return self.df.lnR, self.df.F, self.df.Ferr\n",
    "    \n",
    "    def get_model(self):\n",
    "        return self.Fmodel\n",
    "    \n",
    "    def get_chi2(self):\n",
    "        return self.chi2\n",
    "    \n",
    "    def get_BIC(self):\n",
    "        return self.BIC"
   ]
  },
  {
   "cell_type": "code",
   "execution_count": 9,
   "metadata": {},
   "outputs": [
    {
     "name": "stdout",
     "output_type": "stream",
     "text": [
      "DoF  = 10.00\n",
      "chi2 = 1.40\n",
      "BIC  = -6.25\n"
     ]
    },
    {
     "data": {
      "image/png": "[encoded data removed]",
      "text/plain": [
       "<Figure size 432x288 with 1 Axes>"
      ]
     },
     "metadata": {
      "needs_background": "light"
     },
     "output_type": "display_data"
    }
   ],
   "source": [
    "zi = 2\n",
    "lj = 1\n",
    "M = 5\n",
    "model00 = PolyModel(zi, lj, M)\n",
    "\n",
    "lnR, F, Ferr = model00.get_data()\n",
    "Fmodel = model00.get_model()\n",
    "plt.errorbar(lnR, F, Ferr, c='k', marker='.')\n",
    "plt.plot(lnR, Fmodel, zorder=10, lw=4)\n",
    "plt.xlabel(r\"$\\log_{10} R\\ [{\\rm Mpc}]$\")\n",
    "plt.ylabel(r\"$\\mathcal{F}(R)$\")\n",
    "plt.title(r\"$z\\in[{0}]\\ \\lambda\\in[{1})\\ M={2:d}$\".format(z_titles[zi], lam_titles[lj], M), fontsize=18)\n",
    "\n",
    "print(\"DoF  = {0:.2f}\".format(model00.get_DoF()))\n",
    "print(\"chi2 = {0:.2f}\".format(model00.get_chi2()))\n",
    "print(\"BIC  = {0:.2f}\".format(model00.get_BIC()))"
   ]
  },
  {
   "cell_type": "code",
   "execution_count": null,
   "metadata": {},
   "outputs": [],
   "source": []
  }
 ],
 "metadata": {
  "kernelspec": {
   "display_name": "Python 3",
   "language": "python",
   "name": "python3"
  },
  "language_info": {
   "codemirror_mode": {
    "name": "ipython",
    "version": 3
   },
   "file_extension": ".py",
   "mimetype": "text/x-python",
   "name": "python",
   "nbconvert_exporter": "python",
   "pygments_lexer": "ipython3",
   "version": "3.7.3"
  }
 },
 "nbformat": 4,
 "nbformat_minor": 2
}
